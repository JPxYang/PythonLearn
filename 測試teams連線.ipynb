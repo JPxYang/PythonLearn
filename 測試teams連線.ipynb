{
  "nbformat": 4,
  "nbformat_minor": 0,
  "metadata": {
    "colab": {
      "provenance": [],
      "authorship_tag": "ABX9TyMWMCWX+LjDmNicKBUBy2zz",
      "include_colab_link": true
    },
    "kernelspec": {
      "name": "python3",
      "display_name": "Python 3"
    },
    "language_info": {
      "name": "python"
    }
  },
  "cells": [
    {
      "cell_type": "markdown",
      "metadata": {
        "id": "view-in-github",
        "colab_type": "text"
      },
      "source": [
        "<a href=\"https://colab.research.google.com/github/JPxYang/PythonLearn/blob/main/%E6%B8%AC%E8%A9%A6teams%E9%80%A3%E7%B7%9A.ipynb\" target=\"_parent\"><img src=\"https://colab.research.google.com/assets/colab-badge.svg\" alt=\"Open In Colab\"/></a>"
      ]
    },
    {
      "cell_type": "code",
      "execution_count": 1,
      "metadata": {
        "colab": {
          "base_uri": "https://localhost:8080/"
        },
        "id": "zB97hk0CWmuc",
        "outputId": "1ad5e710-5e4f-47c5-87a2-e090f35e00aa"
      },
      "outputs": [
        {
          "output_type": "stream",
          "name": "stdout",
          "text": [
            "Collecting pymsteams\n",
            "  Downloading pymsteams-0.2.2.tar.gz (9.6 kB)\n",
            "  Preparing metadata (setup.py) ... \u001b[?25l\u001b[?25hdone\n",
            "Requirement already satisfied: requests>=2.20.0 in /usr/local/lib/python3.10/dist-packages (from pymsteams) (2.31.0)\n",
            "Requirement already satisfied: charset-normalizer<4,>=2 in /usr/local/lib/python3.10/dist-packages (from requests>=2.20.0->pymsteams) (3.2.0)\n",
            "Requirement already satisfied: idna<4,>=2.5 in /usr/local/lib/python3.10/dist-packages (from requests>=2.20.0->pymsteams) (3.4)\n",
            "Requirement already satisfied: urllib3<3,>=1.21.1 in /usr/local/lib/python3.10/dist-packages (from requests>=2.20.0->pymsteams) (2.0.4)\n",
            "Requirement already satisfied: certifi>=2017.4.17 in /usr/local/lib/python3.10/dist-packages (from requests>=2.20.0->pymsteams) (2023.7.22)\n",
            "Building wheels for collected packages: pymsteams\n",
            "  Building wheel for pymsteams (setup.py) ... \u001b[?25l\u001b[?25hdone\n",
            "  Created wheel for pymsteams: filename=pymsteams-0.2.2-py3-none-any.whl size=6681 sha256=607db2b02ccc13ec0e28b5fd2fe494befb9703a3ac3ed98632b6aa50bb526d73\n",
            "  Stored in directory: /root/.cache/pip/wheels/56/07/3b/646ec734b5a619cc108f1e7c1530091f093b5ba8c7e7809ea7\n",
            "Successfully built pymsteams\n",
            "Installing collected packages: pymsteams\n",
            "Successfully installed pymsteams-0.2.2\n"
          ]
        }
      ],
      "source": [
        "!pip install pymsteams"
      ]
    },
    {
      "cell_type": "code",
      "source": [
        "import pymsteams"
      ],
      "metadata": {
        "id": "eXa_IghLW4fO"
      },
      "execution_count": 2,
      "outputs": []
    },
    {
      "cell_type": "code",
      "source": [
        "myTeamsMessage = pymsteams.connectorcard(\"https://hannstar.webhook.office.com/webhookb2/bf2d6ff4-ccd2-48e3-ba51-217ab6e0aa64@4385aed4-a143-4812-8d76-480d22a7505f/IncomingWebhook/9d5395d61939441db05304f36d3cf3c9/f0dd75a8-2118-4557-874a-f3462162b48c\")"
      ],
      "metadata": {
        "id": "uxFeLf85XD0r"
      },
      "execution_count": 3,
      "outputs": []
    },
    {
      "cell_type": "code",
      "source": [
        "myTeamsMessage.title(\"\")\n",
        "myTeamsMessage.text(\"傳送測試文字內容08/29 v2 from python\")"
      ],
      "metadata": {
        "colab": {
          "base_uri": "https://localhost:8080/"
        },
        "id": "F2C95D4pXSTl",
        "outputId": "b91a692f-4a1f-4c4d-b158-0c890eac3b5d"
      },
      "execution_count": 4,
      "outputs": [
        {
          "output_type": "execute_result",
          "data": {
            "text/plain": [
              "True"
            ]
          },
          "metadata": {},
          "execution_count": 4
        }
      ]
    },
    {
      "cell_type": "code",
      "source": [
        "myTeamsMessage.send()"
      ],
      "metadata": {
        "id": "Wi7MwYOEXsFZ"
      },
      "execution_count": null,
      "outputs": []
    }
  ]
}