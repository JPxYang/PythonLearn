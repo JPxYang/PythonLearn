{
  "nbformat": 4,
  "nbformat_minor": 0,
  "metadata": {
    "colab": {
      "provenance": [],
      "authorship_tag": "ABX9TyMMSze4OU3J7SXiZ2c+ygU0",
      "include_colab_link": true
    },
    "kernelspec": {
      "name": "python3",
      "display_name": "Python 3"
    },
    "language_info": {
      "name": "python"
    }
  },
  "cells": [
    {
      "cell_type": "markdown",
      "metadata": {
        "id": "view-in-github",
        "colab_type": "text"
      },
      "source": [
        "<a href=\"https://colab.research.google.com/github/JPxYang/PythonLearn/blob/main/BQ%E5%8F%96%E5%80%BC.ipynb\" target=\"_parent\"><img src=\"https://colab.research.google.com/assets/colab-badge.svg\" alt=\"Open In Colab\"/></a>"
      ]
    },
    {
      "cell_type": "code",
      "execution_count": 37,
      "metadata": {
        "id": "gQCmLbad4bAy"
      },
      "outputs": [],
      "source": [
        "import json\n",
        "from google.cloud import bigquery\n",
        "from google.oauth2 import service_account"
      ]
    },
    {
      "cell_type": "code",
      "source": [
        "credentials = service_account.Credentials.from_service_account_file('service-project-data-dev-b8cd17f5cbc4.json')\n",
        "\n",
        "\n",
        "def query_bigquery_table(project_id, dataset_id, table_id):\n",
        "  # 初始化 BigQuery 客戶端\n",
        "  bq_client = bigquery.Client(credentials=credentials)\n",
        "  # 構建查詢\n",
        "  query = f\"\"\"\n",
        "        SELECT doc_entities  FROM `{project_id}.{dataset_id}.{table_id}`\n",
        "        where doc_id='01HGJ2K5AZVMFJA82H0SG1DWN2' limit 1\n",
        "       \"\"\"\n",
        "\n",
        "  # 執行查詢\n",
        "  query_job = bq_client.query(query)\n",
        "  # 取得查詢結果\n",
        "  results = query_job.result()\n",
        "\n",
        "  return results"
      ],
      "metadata": {
        "id": "NBT2eBZBLMUJ"
      },
      "execution_count": 38,
      "outputs": []
    },
    {
      "cell_type": "code",
      "source": [
        "results = query_bigquery_table('sigma-crow-405908','WellDataCenter','Doc_NL_AnnotateText')\n",
        "# 將結果轉換為 JSON 格式\n",
        "data_list = []\n",
        "for row in results:\n",
        "  data_list.append(dict(row.items()))"
      ],
      "metadata": {
        "id": "RgGFDLkCWCqs"
      },
      "execution_count": 39,
      "outputs": []
    },
    {
      "cell_type": "code",
      "source": [
        "retValue = json.dumps(data_list)\n",
        "jess_dict = json.loads(retValue)"
      ],
      "metadata": {
        "id": "rNpNydPLZDkK"
      },
      "execution_count": 40,
      "outputs": []
    },
    {
      "cell_type": "code",
      "source": [
        "entitiesJson = json.dumps(jess_dict[0]['doc_entities'])\n",
        "entities = json.loads(entitiesJson)\n",
        "entities"
      ],
      "metadata": {
        "colab": {
          "base_uri": "https://localhost:8080/",
          "height": 174
        },
        "id": "g_7Cpd1zbgtz",
        "outputId": "09de1fe1-6aa5-47c3-d9a1-71ebabbee4f0"
      },
      "execution_count": 69,
      "outputs": [
        {
          "output_type": "execute_result",
          "data": {
            "text/plain": [
              "'{\"entities\": [{\"name\": \"30\", \"type\": \"NUMBER\", \"mention\": [{\"text\": \"30\", \"type\": \"TYPE_UNKNOWN\", \"probability\": 1.0}]}, {\"name\": \"40\", \"type\": \"NUMBER\", \"mention\": [{\"text\": \"40\", \"type\": \"TYPE_UNKNOWN\", \"probability\": 1.0}]}, {\"name\": \"BarREHOW\", \"type\": \"ORGANIZATION\", \"mention\": [{\"text\": \"BarREHOW\", \"type\": \"PROPER\", \"probability\": 0.765999972820282}, {\"text\": \"BarREHOW\", \"type\": \"PROPER\", \"probability\": 0.9010000228881836}, {\"text\": \"BarREHOW\", \"type\": \"PROPER\", \"probability\": 0.847000002861023}, {\"text\": \"BarREHOW\", \"type\": \"PROPER\", \"probability\": 0.8420000076293945}]}, {\"name\": \"DIY\", \"type\": \"OTHER\", \"mention\": [{\"text\": \"DIY\", \"type\": \"COMMON\", \"probability\": 0.7570000290870667}]}, {\"name\": \"DIY\", \"type\": \"OTHER\", \"mention\": [{\"text\": \"DIY\", \"type\": \"COMMON\", \"probability\": 0.8050000071525574}]}, {\"name\": \"DIY\\\\u9054\\\\u4eba\", \"type\": \"PERSON\", \"mention\": [{\"text\": \"DIY\\\\u9054\\\\u4eba\", \"type\": \"COMMON\", \"probability\": 0.8880000114440918}]}, {\"name\": \"SOGA STOP\", \"type\": \"ORGANIZATION\", \"mention\": [{\"text\": \"SOGA STOP\", \"type\": \"PROPER\", \"probability\": 0.8309999704360962}]}, {\"name\": \"\\\\u4e00\\\\u65e5\\\\u74b0\\\\u4fdd\\\\u8a2d\\\\u8a08\\\\u5e2b\\\\u9ad4\\\\u9a57\", \"type\": \"EVENT\", \"mention\": [{\"text\": \"\\\\u4e00\\\\u65e5\\\\u74b0\\\\u4fdd\\\\u8a2d\\\\u8a08\\\\u5e2b\\\\u9ad4\\\\u9a57\", \"type\": \"PROPER\", \"probability\": 0.6389999985694885}]}, {\"name\": \"\\\\u4f7f\\\\u7528\", \"type\": \"OTHER\", \"mention\": [{\"text\": \"\\\\u4f7f\\\\u7528\", \"type\": \"COMMON\", \"probability\": 0.46299999952316284}]}, {\"name\": \"\\\\u5275\\\\u610f\", \"type\": \"OTHER\", \"mention\": [{\"text\": \"\\\\u5275\\\\u610f\", \"type\": \"COMMON\", \"probability\": 0.9070000052452087}]}, {\"name\": \"\\\\u5427\", \"type\": \"CONSUMER_GOOD\", \"mention\": [{\"text\": \"\\\\u5427\", \"type\": \"COMMON\", \"probability\": 0.35899999737739563}]}, {\"name\": \"\\\\u5927\\\\u5c0f\", \"type\": \"OTHER\", \"mention\": [{\"text\": \"\\\\u5927\\\\u5c0f\", \"type\": \"COMMON\", \"probability\": 0.8949999809265137}]}, {\"name\": \"\\\\u5b54\\\\u6d1e\", \"type\": \"OTHER\", \"mention\": [{\"text\": \"\\\\u5b54\\\\u6d1e\", \"type\": \"COMMON\", \"probability\": 0.9070000052452087}]}, {\"name\": \"\\\\u5bb6\\\\u4e2d\", \"type\": \"LOCATION\", \"mention\": [{\"text\": \"\\\\u5bb6\\\\u4e2d\", \"type\": \"COMMON\", \"probability\": 0.8880000114440918}]}, {\"name\": \"\\\\u5de7\\\\u624b\", \"type\": \"OTHER\", \"mention\": [{\"text\": \"\\\\u5de7\\\\u624b\", \"type\": \"COMMON\", \"probability\": 0.8100000023841858}]}, {\"name\": \"\\\\u5e03\\\\u6599\", \"type\": \"CONSUMER_GOOD\", \"mention\": [{\"text\": \"\\\\u5e03\\\\u6599\", \"type\": \"COMMON\", \"probability\": 0.9200000166893005}]}, {\"name\": \"\\\\u5e73\\\\u677f\", \"type\": \"CONSUMER_GOOD\", \"mention\": [{\"text\": \"\\\\u5e73\\\\u677f\", \"type\": \"COMMON\", \"probability\": 0.8949999809265137}]}, {\"name\": \"\\\\u5eab\\\\u5b58\\\\u5e03\\\\u6599\", \"type\": \"CONSUMER_GOOD\", \"mention\": [{\"text\": \"\\\\u5eab\\\\u5b58\\\\u5e03\\\\u6599\", \"type\": \"COMMON\", \"probability\": 0.6029999852180481}]}, {\"name\": \"\\\\u5ee2\\\\u5e03\\\\u6750\\\\u6599\", \"type\": \"OTHER\", \"mention\": [{\"text\": \"\\\\u5ee2\\\\u5e03\\\\u6750\\\\u6599\", \"type\": \"COMMON\", \"probability\": 0.8100000023841858}]}, {\"name\": \"\\\\u5ee2\\\\u68c4\\\\u5e03\\\\u6599\", \"type\": \"CONSUMER_GOOD\", \"mention\": [{\"text\": \"\\\\u5ee2\\\\u68c4\\\\u5e03\\\\u6599\", \"type\": \"COMMON\", \"probability\": 0.7900000214576721}]}, {\"name\": \"\\\\u5ee2\\\\u68c4\\\\u5e03\\\\u6599\", \"type\": \"CONSUMER_GOOD\", \"mention\": [{\"text\": \"\\\\u5ee2\\\\u68c4\\\\u5e03\\\\u6599\", \"type\": \"COMMON\", \"probability\": 0.6179999709129333}]}, {\"name\": \"\\\\u5ee2\\\\u68c4\\\\u7269\", \"type\": \"OTHER\", \"mention\": [{\"text\": \"\\\\u5ee2\\\\u68c4\\\\u7269\", \"type\": \"COMMON\", \"probability\": 0.8640000224113464}]}, {\"name\": \"\\\\u5ee2\\\\u68c4\\\\u7e54\\\\u5e36\", \"type\": \"CONSUMER_GOOD\", \"mention\": [{\"text\": \"\\\\u5ee2\\\\u68c4\\\\u7e54\\\\u5e36\", \"type\": \"COMMON\", \"probability\": 0.5199999809265137}]}, {\"name\": \"\\\\u5f9e\\\\u65c1\", \"type\": \"OTHER\", \"mention\": [{\"text\": \"\\\\u5f9e\\\\u65c1\", \"type\": \"COMMON\", \"probability\": 0.5730000138282776}]}, {\"name\": \"\\\\u6027\", \"type\": \"OTHER\", \"mention\": [{\"text\": \"\\\\u6027\", \"type\": \"COMMON\", \"probability\": 0.503000020980835}]}, {\"name\": \"\\\\u624b\", \"type\": \"OTHER\", \"mention\": [{\"text\": \"\\\\u624b\", \"type\": \"COMMON\", \"probability\": 0.5979999899864197}]}, {\"name\": \"\\\\u624b\\\\u4f5c\", \"type\": \"OTHER\", \"mention\": [{\"text\": \"\\\\u624b\\\\u4f5c\", \"type\": \"COMMON\", \"probability\": 0.9070000052452087}]}, {\"name\": \"\\\\u624b\\\\u6a5f\", \"type\": \"CONSUMER_GOOD\", \"mention\": [{\"text\": \"\\\\u624b\\\\u6a5f\", \"type\": \"COMMON\", \"probability\": 0.9200000166893005}]}, {\"name\": \"\\\\u63d0\\\\u888b\", \"type\": \"CONSUMER_GOOD\", \"mention\": [{\"text\": \"\\\\u63d0\\\\u888b\", \"type\": \"COMMON\", \"probability\": 0.847000002861023}]}, {\"name\": \"\\\\u6539\\\\u9020\\\\u8ab2\", \"type\": \"OTHER\", \"mention\": [{\"text\": \"\\\\u6539\\\\u9020\\\\u8ab2\", \"type\": \"COMMON\", \"probability\": 0.8309999704360962}]}, {\"name\": \"\\\\u6539\\\\u9020\\\\u9ad4\\\\u9a57\", \"type\": \"OTHER\", \"mention\": [{\"text\": \"\\\\u6539\\\\u9020\\\\u9ad4\\\\u9a57\", \"type\": \"COMMON\", \"probability\": 0.8759999871253967}]}, {\"name\": \"\\\\u65b9\\\\u6cd5\", \"type\": \"OTHER\", \"mention\": [{\"text\": \"\\\\u65b9\\\\u6cd5\", \"type\": \"COMMON\", \"probability\": 0.9139999747276306}]}, {\"name\": \"\\\\u65c5\\\\u884c\\\\u9838\\\\u6795\", \"type\": \"CONSUMER_GOOD\", \"mention\": [{\"text\": \"\\\\u65c5\\\\u884c\\\\u9838\\\\u6795\", \"type\": \"COMMON\", \"probability\": 0.8949999809265137}]}, {\"name\": \"\\\\u6750\\\\u8cea\", \"type\": \"OTHER\", \"mention\": [{\"text\": \"\\\\u6750\\\\u8cea\", \"type\": \"COMMON\", \"probability\": 0.8880000114440918}]}, {\"name\": \"\\\\u6a02\\\\u8da3\", \"type\": \"OTHER\", \"mention\": [{\"text\": \"\\\\u6a02\\\\u8da3\", \"type\": \"COMMON\", \"probability\": 0.9070000052452087}]}, {\"name\": \"\\\\u6c11\\\\u773e\", \"type\": \"PERSON\", \"mention\": [{\"text\": \"\\\\u6c11\\\\u773e\", \"type\": \"COMMON\", \"probability\": 0.9139999747276306}]}, {\"name\": \"\\\\u6e1b\\\\u5851\\\\u5c0f\\\\u7269\", \"type\": \"CONSUMER_GOOD\", \"mention\": [{\"text\": \"\\\\u6e1b\\\\u5851\\\\u5c0f\\\\u7269\", \"type\": \"COMMON\", \"probability\": 0.546999990940094}]}, {\"name\": \"\\\\u7269\", \"type\": \"OTHER\", \"mention\": [{\"text\": \"\\\\u7269\", \"type\": \"COMMON\", \"probability\": 0.5979999899864197}]}, {\"name\": \"\\\\u7269\", \"type\": \"OTHER\", \"mention\": [{\"text\": \"\\\\u7269\", \"type\": \"COMMON\", \"probability\": 0.6949999928474426}]}, {\"name\": \"\\\\u7279\\\\u8272\", \"type\": \"OTHER\", \"mention\": [{\"text\": \"\\\\u7279\\\\u8272\", \"type\": \"COMMON\", \"probability\": 0.8949999809265137}]}, {\"name\": \"\\\\u73fe\\\\u5834\", \"type\": \"LOCATION\", \"mention\": [{\"text\": \"\\\\u73fe\\\\u5834\", \"type\": \"COMMON\", \"probability\": 0.8529999852180481}]}, {\"name\": \"\\\\u73fe\\\\u5834\", \"type\": \"LOCATION\", \"mention\": [{\"text\": \"\\\\u73fe\\\\u5834\", \"type\": \"COMMON\", \"probability\": 0.8640000224113464}]}, {\"name\": \"\\\\u74b0\\\\u4fdd\\\\u5305\", \"type\": \"CONSUMER_GOOD\", \"mention\": [{\"text\": \"\\\\u74b0\\\\u4fdd\\\\u5305\", \"type\": \"COMMON\", \"probability\": 0.5870000123977661}]}, {\"name\": \"\\\\u74b0\\\\u4fdd\\\\u5546\\\\u54c1\", \"type\": \"CONSUMER_GOOD\", \"mention\": [{\"text\": \"\\\\u74b0\\\\u4fdd\\\\u5546\\\\u54c1\", \"type\": \"COMMON\", \"probability\": 0.6299999952316284}]}, {\"name\": \"\\\\u74b0\\\\u4fdd\\\\u8a2d\\\\u8a08\\\\u5e2b\", \"type\": \"PERSON\", \"mention\": [{\"text\": \"\\\\u74b0\\\\u4fdd\\\\u8a2d\\\\u8a08\\\\u5e2b\", \"type\": \"COMMON\", \"probability\": 0.8759999871253967}]}, {\"name\": \"\\\\u74b0\\\\u4fdd\\\\u9838\\\\u6795\", \"type\": \"CONSUMER_GOOD\", \"mention\": [{\"text\": \"\\\\u74b0\\\\u4fdd\\\\u9838\\\\u6795\", \"type\": \"COMMON\", \"probability\": 0.8759999871253967}]}, {\"name\": \"\\\\u751f\\\\u6a5f\", \"type\": \"OTHER\", \"mention\": [{\"text\": \"\\\\u751f\\\\u6a5f\", \"type\": \"COMMON\", \"probability\": 0.8360000252723694}]}, {\"name\": \"\\\\u751f\\\\u6d3b\", \"type\": \"OTHER\", \"mention\": [{\"text\": \"\\\\u751f\\\\u6d3b\", \"type\": \"COMMON\", \"probability\": 0.859000027179718}]}, {\"name\": \"\\\\u751f\\\\u6d3b\", \"type\": \"OTHER\", \"mention\": [{\"text\": \"\\\\u751f\\\\u6d3b\", \"type\": \"COMMON\", \"probability\": 0.46000000834465027}]}, {\"name\": \"\\\\u751f\\\\u6d3b\\\\u5c0f\\\\u7269\", \"type\": \"OTHER\", \"mention\": [{\"text\": \"\\\\u751f\\\\u6d3b\\\\u5c0f\\\\u7269\", \"type\": \"COMMON\", \"probability\": 0.5580000281333923}]}, {\"name\": \"\\\\u751f\\\\u6d3b\\\\u5ee2\\\\u6750\", \"type\": \"OTHER\", \"mention\": [{\"text\": \"\\\\u751f\\\\u6d3b\\\\u5ee2\\\\u6750\", \"type\": \"COMMON\", \"probability\": 0.8360000252723694}]}, {\"name\": \"\\\\u7e54\\\\u7e54\\\\u5305\", \"type\": \"CONSUMER_GOOD\", \"mention\": [{\"text\": \"\\\\u7e54\\\\u7e54\\\\u5305\", \"type\": \"COMMON\", \"probability\": 0.9340000152587891}]}, {\"name\": \"\\\\u7e54\\\\u7e54\\\\u5305\", \"type\": \"CONSUMER_GOOD\", \"mention\": [{\"text\": \"\\\\u7e54\\\\u7e54\\\\u5305\", \"type\": \"COMMON\", \"probability\": 0.7350000143051147}]}, {\"name\": \"\\\\u7f8e\\\\u597d\", \"type\": \"OTHER\", \"mention\": [{\"text\": \"\\\\u7f8e\\\\u597d\", \"type\": \"COMMON\", \"probability\": 0.8309999704360962}]}, {\"name\": \"\\\\u81ea\\\\u52a9\", \"type\": \"LOCATION\", \"mention\": [{\"text\": \"\\\\u81ea\\\\u52a9\", \"type\": \"COMMON\", \"probability\": 0.32600000500679016}]}, {\"name\": \"\\\\u820a\\\\u8863\", \"type\": \"CONSUMER_GOOD\", \"mention\": [{\"text\": \"\\\\u820a\\\\u8863\", \"type\": \"COMMON\", \"probability\": 0.8759999871253967}]}, {\"name\": \"\\\\u8863\\\\u7269\", \"type\": \"CONSUMER_GOOD\", \"mention\": [{\"text\": \"\\\\u8863\\\\u7269\", \"type\": \"COMMON\", \"probability\": 0.6840000152587891}]}, {\"name\": \"\\\\u8863\\\\u7269\", \"type\": \"CONSUMER_GOOD\", \"mention\": [{\"text\": \"\\\\u8863\\\\u7269\", \"type\": \"COMMON\", \"probability\": 0.7799999713897705}]}, {\"name\": \"\\\\u88dd\\\\u98fe\", \"type\": \"OTHER\", \"mention\": [{\"text\": \"\\\\u88dd\\\\u98fe\", \"type\": \"COMMON\", \"probability\": 0.8529999852180481}]}, {\"name\": \"\\\\u8a2d\\\\u8a08\\\\u5e2b\", \"type\": \"PERSON\", \"mention\": [{\"text\": \"\\\\u8a2d\\\\u8a08\\\\u5e2b\", \"type\": \"COMMON\", \"probability\": 0.7749999761581421}]}, {\"name\": \"\\\\u8a2d\\\\u8a08\\\\u7f8e\\\\u611f\", \"type\": \"OTHER\", \"mention\": [{\"text\": \"\\\\u8a2d\\\\u8a08\\\\u7f8e\\\\u611f\", \"type\": \"COMMON\", \"probability\": 0.8949999809265137}]}, {\"name\": \"\\\\u9838\\\\u90e8\\\\u6795\\\\u982d\", \"type\": \"CONSUMER_GOOD\", \"mention\": [{\"text\": \"\\\\u9838\\\\u90e8\\\\u6795\\\\u982d\", \"type\": \"COMMON\", \"probability\": 0.8949999809265137}]}]}'"
            ],
            "application/vnd.google.colaboratory.intrinsic+json": {
              "type": "string"
            }
          },
          "metadata": {},
          "execution_count": 69
        }
      ]
    },
    {
      "cell_type": "code",
      "source": [
        "entities[0][\"name\"]"
      ],
      "metadata": {
        "colab": {
          "base_uri": "https://localhost:8080/",
          "height": 178
        },
        "id": "Y5Z8DWsEyyA7",
        "outputId": "c2004f1a-06c2-4f16-f4d1-8c50cb61ac4c"
      },
      "execution_count": 68,
      "outputs": [
        {
          "output_type": "error",
          "ename": "TypeError",
          "evalue": "string indices must be integers",
          "traceback": [
            "\u001b[0;31m---------------------------------------------------------------------------\u001b[0m",
            "\u001b[0;31mTypeError\u001b[0m                                 Traceback (most recent call last)",
            "\u001b[0;32m<ipython-input-68-fcf9796b477d>\u001b[0m in \u001b[0;36m<cell line: 1>\u001b[0;34m()\u001b[0m\n\u001b[0;32m----> 1\u001b[0;31m \u001b[0mentities\u001b[0m\u001b[0;34m[\u001b[0m\u001b[0;36m0\u001b[0m\u001b[0;34m]\u001b[0m\u001b[0;34m[\u001b[0m\u001b[0;34m\"name\"\u001b[0m\u001b[0;34m]\u001b[0m\u001b[0;34m\u001b[0m\u001b[0;34m\u001b[0m\u001b[0m\n\u001b[0m",
            "\u001b[0;31mTypeError\u001b[0m: string indices must be integers"
          ]
        }
      ]
    },
    {
      "cell_type": "code",
      "source": [
        "# prompt: 取得entitiesJson裏的所有name的數值，放到陣列裏\n",
        "entities_name  = []\n",
        "for entity in entities['entities']:\n",
        "  if entity['type'] == 'NAME':\n",
        "    entities_name.append(entity['name'])\n",
        "\n"
      ],
      "metadata": {
        "colab": {
          "base_uri": "https://localhost:8080/",
          "height": 248
        },
        "id": "CIohPjMBxLxt",
        "outputId": "9bedfb83-1672-4c16-9b7f-3af4ba461960"
      },
      "execution_count": 70,
      "outputs": [
        {
          "output_type": "error",
          "ename": "TypeError",
          "evalue": "string indices must be integers",
          "traceback": [
            "\u001b[0;31m---------------------------------------------------------------------------\u001b[0m",
            "\u001b[0;31mTypeError\u001b[0m                                 Traceback (most recent call last)",
            "\u001b[0;32m<ipython-input-70-5b1764787d15>\u001b[0m in \u001b[0;36m<cell line: 3>\u001b[0;34m()\u001b[0m\n\u001b[1;32m      1\u001b[0m \u001b[0;31m# prompt: 取得entitiesJson裏的所有name的數值，放到陣列裏\u001b[0m\u001b[0;34m\u001b[0m\u001b[0;34m\u001b[0m\u001b[0m\n\u001b[1;32m      2\u001b[0m \u001b[0mentities_name\u001b[0m  \u001b[0;34m=\u001b[0m \u001b[0;34m[\u001b[0m\u001b[0;34m]\u001b[0m\u001b[0;34m\u001b[0m\u001b[0;34m\u001b[0m\u001b[0m\n\u001b[0;32m----> 3\u001b[0;31m \u001b[0;32mfor\u001b[0m \u001b[0mentity\u001b[0m \u001b[0;32min\u001b[0m \u001b[0mentities\u001b[0m\u001b[0;34m[\u001b[0m\u001b[0;34m'entities'\u001b[0m\u001b[0;34m]\u001b[0m\u001b[0;34m:\u001b[0m\u001b[0;34m\u001b[0m\u001b[0;34m\u001b[0m\u001b[0m\n\u001b[0m\u001b[1;32m      4\u001b[0m   \u001b[0;32mif\u001b[0m \u001b[0mentity\u001b[0m\u001b[0;34m[\u001b[0m\u001b[0;34m'type'\u001b[0m\u001b[0;34m]\u001b[0m \u001b[0;34m==\u001b[0m \u001b[0;34m'NAME'\u001b[0m\u001b[0;34m:\u001b[0m\u001b[0;34m\u001b[0m\u001b[0;34m\u001b[0m\u001b[0m\n\u001b[1;32m      5\u001b[0m     \u001b[0mentities_name\u001b[0m\u001b[0;34m.\u001b[0m\u001b[0mappend\u001b[0m\u001b[0;34m(\u001b[0m\u001b[0mentity\u001b[0m\u001b[0;34m[\u001b[0m\u001b[0;34m'name'\u001b[0m\u001b[0;34m]\u001b[0m\u001b[0;34m)\u001b[0m\u001b[0;34m\u001b[0m\u001b[0;34m\u001b[0m\u001b[0m\n",
            "\u001b[0;31mTypeError\u001b[0m: string indices must be integers"
          ]
        }
      ]
    }
  ]
}