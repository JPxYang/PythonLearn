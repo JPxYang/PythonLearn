{
  "nbformat": 4,
  "nbformat_minor": 0,
  "metadata": {
    "colab": {
      "name": "Copy of BigQuery with Python",
      "provenance": []
    },
    "kernelspec": {
      "name": "python3",
      "display_name": "Python 3"
    },
    "language_info": {
      "name": "python"
    }
  },
  "cells": [
    {
      "cell_type": "code",
      "execution_count": null,
      "metadata": {
        "id": "kuNAz5n4aD4P"
      },
      "outputs": [],
      "source": [
        "from google.colab import auth\n",
        "auth.authenticate_user()\n",
        "print('Authenticated')"
      ]
    },
    {
      "cell_type": "code",
      "source": [
        "project_id = 'YOUR_PROJECT_NAME'"
      ],
      "metadata": {
        "id": "_9ZU0Di9anW5"
      },
      "execution_count": null,
      "outputs": []
    },
    {
      "cell_type": "code",
      "source": [
        "from google.cloud import bigquery\n"
      ],
      "metadata": {
        "id": "J4zNByOJaSbA"
      },
      "execution_count": null,
      "outputs": []
    },
    {
      "cell_type": "code",
      "source": [
        "client = bigquery.Client(project=project_id)"
      ],
      "metadata": {
        "id": "3l3AR4mTbBgm"
      },
      "execution_count": null,
      "outputs": []
    },
    {
      "cell_type": "code",
      "source": [
        "client"
      ],
      "metadata": {
        "colab": {
          "base_uri": "https://localhost:8080/"
        },
        "id": "Ckb0EXWpbCLF",
        "outputId": "bdca4854-eb64-44f8-ff37-4ac9da021cea"
      },
      "execution_count": null,
      "outputs": [
        {
          "output_type": "execute_result",
          "data": {
            "text/plain": [
              "<google.cloud.bigquery.client.Client at 0x7ff69bc96950>"
            ]
          },
          "metadata": {},
          "execution_count": 9
        }
      ]
    },
    {
      "cell_type": "code",
      "source": [
        "row_count = client.query('''\n",
        "  SELECT \n",
        "    COUNT(*) as total\n",
        "  FROM `bigquery-public-data.samples.gsod`''')"
      ],
      "metadata": {
        "id": "Oar740dIbDDs"
      },
      "execution_count": null,
      "outputs": []
    },
    {
      "cell_type": "code",
      "source": [
        "row_count"
      ],
      "metadata": {
        "id": "v59pXPw3bQtL"
      },
      "execution_count": null,
      "outputs": []
    },
    {
      "cell_type": "code",
      "source": [
        "row_count.result()"
      ],
      "metadata": {
        "id": "RKMwg2MYMaNx"
      },
      "execution_count": null,
      "outputs": []
    },
    {
      "cell_type": "code",
      "source": [
        "for r in row_count.results():\n",
        "    print(r)\n"
      ],
      "metadata": {
        "id": "KFyfTCMNMcD3"
      },
      "execution_count": null,
      "outputs": []
    },
    {
      "cell_type": "code",
      "source": [
        "df = rowcount.to_dataframe()"
      ],
      "metadata": {
        "id": "3KU9QJbBMgWd"
      },
      "execution_count": null,
      "outputs": []
    },
    {
      "cell_type": "code",
      "source": [
        "df"
      ],
      "metadata": {
        "id": "37vqBJvOMuOz"
      },
      "execution_count": null,
      "outputs": []
    },
    {
      "cell_type": "code",
      "source": [
        "stations = client.query('''\n",
        "SELECT\n",
        "    station_id, name, capacity, is_renting\n",
        "FROM \n",
        "    `YOUR_PROJECT_NAME.nyc_citi_bike_trips.citibike_stations`''')"
      ],
      "metadata": {
        "id": "Ih6yLqUEMuoo"
      },
      "execution_count": null,
      "outputs": []
    },
    {
      "cell_type": "code",
      "source": [
        "stations"
      ],
      "metadata": {
        "id": "q-FIi5b1My9n"
      },
      "execution_count": null,
      "outputs": []
    },
    {
      "cell_type": "code",
      "source": [
        "stations.result()"
      ],
      "metadata": {
        "id": "SC5iWZ1WNY8z"
      },
      "execution_count": null,
      "outputs": []
    },
    {
      "cell_type": "code",
      "source": [
        "for r in statiosn.result():\n",
        "  print(r)"
      ],
      "metadata": {
        "id": "Aig-S1hwNaPa"
      },
      "execution_count": null,
      "outputs": []
    },
    {
      "cell_type": "code",
      "source": [
        "stations_df = stations.to_dataframe()"
      ],
      "metadata": {
        "id": "BYWVNQNNNfXg"
      },
      "execution_count": null,
      "outputs": []
    },
    {
      "cell_type": "code",
      "source": [
        "stations_df"
      ],
      "metadata": {
        "id": "GsKXwxkFNjLh"
      },
      "execution_count": null,
      "outputs": []
    },
    {
      "cell_type": "code",
      "source": [
        "stations_df.head()"
      ],
      "metadata": {
        "id": "PRR15ijgNkDO"
      },
      "execution_count": null,
      "outputs": []
    },
    {
      "cell_type": "code",
      "source": [
        "stations_df.tail()"
      ],
      "metadata": {
        "id": "XlBtZ2vUNoSl"
      },
      "execution_count": null,
      "outputs": []
    },
    {
      "cell_type": "code",
      "source": [
        "stations_df.describe()"
      ],
      "metadata": {
        "id": "FW0VACyHNprZ"
      },
      "execution_count": null,
      "outputs": []
    }
  ]
}