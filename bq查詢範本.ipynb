{
  "nbformat": 4,
  "nbformat_minor": 0,
  "metadata": {
    "colab": {
      "provenance": [],
      "authorship_tag": "ABX9TyPf4bjcOlWyao6e8mvVdt9o",
      "include_colab_link": true
    },
    "kernelspec": {
      "name": "python3",
      "display_name": "Python 3"
    },
    "language_info": {
      "name": "python"
    }
  },
  "cells": [
    {
      "cell_type": "markdown",
      "metadata": {
        "id": "view-in-github",
        "colab_type": "text"
      },
      "source": [
        "<a href=\"https://colab.research.google.com/github/JPxYang/PythonLearn/blob/main/bq%E6%9F%A5%E8%A9%A2%E7%AF%84%E6%9C%AC.ipynb\" target=\"_parent\"><img src=\"https://colab.research.google.com/assets/colab-badge.svg\" alt=\"Open In Colab\"/></a>"
      ]
    },
    {
      "cell_type": "code",
      "execution_count": null,
      "metadata": {
        "id": "gQCmLbad4bAy"
      },
      "outputs": [],
      "source": [
        "import json\n",
        "from google.cloud import bigquery\n",
        "from google.oauth2 import service_account"
      ]
    },
    {
      "cell_type": "code",
      "source": [
        "credentials = service_account.Credentials.from_service_account_file('service-project-data-dev-b8cd17f5cbc4.json')\n",
        "\n",
        "\n",
        "def query_bigquery_table(project_id, dataset_id, table_id):\n",
        "  # 初始化 BigQuery 客戶端\n",
        "  bq_client = bigquery.Client(credentials=credentials)\n",
        "  # 構建查詢\n",
        "  query = f\"\"\"\n",
        "        SELECT doc_entities,doc_moderationCategories  FROM `{project_id}.{dataset_id}.{table_id}`\n",
        "        where doc_id='01HGJ2K5AZVMFJA82H0SG1DWN2'\n",
        "        limit 1\n",
        "       \"\"\"\n",
        "\n",
        "  # 執行查詢\n",
        "  query_job = bq_client.query(query)\n",
        "  # 取得查詢結果\n",
        "  results = query_job.result()\n",
        "\n",
        "  return results"
      ],
      "metadata": {
        "id": "NBT2eBZBLMUJ"
      },
      "execution_count": null,
      "outputs": []
    },
    {
      "cell_type": "code",
      "source": [
        "results = query_bigquery_table('sigma-crow-405908','WellDataCenter','Doc_NL_AnnotateText')\n",
        "# 將結果轉換為 JSON 格式\n",
        "data_list = []\n",
        "for row in results:\n",
        "  data_list.append(dict(row.items()))"
      ],
      "metadata": {
        "id": "RgGFDLkCWCqs"
      },
      "execution_count": null,
      "outputs": []
    },
    {
      "cell_type": "code",
      "source": [
        "data_list[0][\"doc_moderationCategories\"]"
      ],
      "metadata": {
        "colab": {
          "base_uri": "https://localhost:8080/",
          "height": 127
        },
        "id": "fPfSTJh--tvP",
        "outputId": "97be1b60-c030-4418-ffb1-8f6d4b838904"
      },
      "execution_count": null,
      "outputs": [
        {
          "output_type": "execute_result",
          "data": {
            "text/plain": [
              "'{\"categories\": [{\"name\": \"Toxic\", \"confidence\": 0.02596125565469265}, {\"name\": \"Insult\", \"confidence\": 0.017338726669549942}, {\"name\": \"Profanity\", \"confidence\": 0.009878856129944324}, {\"name\": \"Derogatory\", \"confidence\": 0.004792527295649052}, {\"name\": \"Sexual\", \"confidence\": 0.0024352301843464375}, {\"name\": \"Death, Harm & Tragedy\", \"confidence\": 0.001607717014849186}, {\"name\": \"Violent\", \"confidence\": 0.0}, {\"name\": \"Firearms & Weapons\", \"confidence\": 0.0}, {\"name\": \"Public Safety\", \"confidence\": 0.0014393667224794626}, {\"name\": \"Health\", \"confidence\": 0.09630458801984787}, {\"name\": \"Religion & Belief\", \"confidence\": 0.002452483167871833}, {\"name\": \"Illicit Drugs\", \"confidence\": 0.002336448524147272}, {\"name\": \"War & Conflict\", \"confidence\": 0.0}, {\"name\": \"Politics\", \"confidence\": 0.0}, {\"name\": \"Finance\", \"confidence\": 0.014897579327225685}, {\"name\": \"Legal\", \"confidence\": 0.0}]}'"
            ],
            "application/vnd.google.colaboratory.intrinsic+json": {
              "type": "string"
            }
          },
          "metadata": {},
          "execution_count": 17
        }
      ]
    },
    {
      "cell_type": "code",
      "source": [
        "len(data_list)"
      ],
      "metadata": {
        "id": "rNpNydPLZDkK",
        "colab": {
          "base_uri": "https://localhost:8080/"
        },
        "outputId": "fb85a7bb-8903-43fb-c7e9-68295e77c2d7"
      },
      "execution_count": null,
      "outputs": [
        {
          "output_type": "execute_result",
          "data": {
            "text/plain": [
              "1"
            ]
          },
          "metadata": {},
          "execution_count": 18
        }
      ]
    },
    {
      "cell_type": "code",
      "source": [
        "y = json.loads( python_dict['doc_entities'] )\n",
        "for x in y[\"entities\"]:\n",
        "  if( x[\"name\"] != 'NUMBER' ):\n",
        "    print( x )"
      ],
      "metadata": {
        "id": "s7X7JPmSXMtO"
      },
      "execution_count": null,
      "outputs": []
    },
    {
      "cell_type": "code",
      "source": [
        "moderCategoriesJosn = json.loads( python_dict['doc_moderationCategories'] )\n",
        "for categoriesX in moderCategoriesJosn[\"categories\"]:\n",
        "  print( categoriesX )"
      ],
      "metadata": {
        "colab": {
          "base_uri": "https://localhost:8080/"
        },
        "id": "2WzzqAjL_RpC",
        "outputId": "c3333e6b-d04f-411b-98cb-5a83a9fd271b"
      },
      "execution_count": null,
      "outputs": [
        {
          "output_type": "stream",
          "name": "stdout",
          "text": [
            "{'name': 'Toxic', 'confidence': 0.02596125565469265}\n",
            "{'name': 'Insult', 'confidence': 0.017338726669549942}\n",
            "{'name': 'Profanity', 'confidence': 0.009878856129944324}\n",
            "{'name': 'Derogatory', 'confidence': 0.004792527295649052}\n",
            "{'name': 'Sexual', 'confidence': 0.0024352301843464375}\n",
            "{'name': 'Death, Harm & Tragedy', 'confidence': 0.001607717014849186}\n",
            "{'name': 'Violent', 'confidence': 0.0}\n",
            "{'name': 'Firearms & Weapons', 'confidence': 0.0}\n",
            "{'name': 'Public Safety', 'confidence': 0.0014393667224794626}\n",
            "{'name': 'Health', 'confidence': 0.09630458801984787}\n",
            "{'name': 'Religion & Belief', 'confidence': 0.002452483167871833}\n",
            "{'name': 'Illicit Drugs', 'confidence': 0.002336448524147272}\n",
            "{'name': 'War & Conflict', 'confidence': 0.0}\n",
            "{'name': 'Politics', 'confidence': 0.0}\n",
            "{'name': 'Finance', 'confidence': 0.014897579327225685}\n",
            "{'name': 'Legal', 'confidence': 0.0}\n"
          ]
        }
      ]
    }
  ]
}